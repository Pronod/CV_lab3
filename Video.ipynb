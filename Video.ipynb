{
 "cells": [
  {
   "cell_type": "code",
   "execution_count": 26,
   "metadata": {},
   "outputs": [],
   "source": [
    "import pandas as pd \n",
    "import numpy as np\n",
    "import cv2\n",
    "from sklearn.linear_model import LogisticRegression\n",
    "from sklearn.ensemble import GradientBoostingClassifier"
   ]
  },
  {
   "cell_type": "code",
   "execution_count": 53,
   "metadata": {},
   "outputs": [],
   "source": [
    "def sift_features(images):\n",
    "    sift_vectors = {}\n",
    "    descriptor_list = []\n",
    "    sift = cv2.SIFT_create()\n",
    "    for key,value in images.items():\n",
    "        features = []\n",
    "        for img in value:\n",
    "            kp, des = sift.detectAndCompute(img,None)\n",
    "           \n",
    "            \n",
    "            descriptor_list.extend(des)\n",
    "            features.append(des)\n",
    "        sift_vectors[key] = features\n",
    "    return [descriptor_list, sift_vectors]\n",
    "\n",
    "def find_index(feature, centers):\n",
    "    return np.argmin(np.sum((centers - feature) **2, axis = 1))\n",
    "\n",
    "centers = np.load('centers_sift.npy')"
   ]
  },
  {
   "cell_type": "code",
   "execution_count": 54,
   "metadata": {},
   "outputs": [],
   "source": [
    "train = pd.read_csv('train_sift.csv')\n",
    "test = pd.read_csv('test_sift.csv')\n",
    "\n",
    "train.drop(columns='Unnamed: 0',inplace = True)\n",
    "test.drop(columns='Unnamed: 0',inplace = True)\n",
    "\n",
    "X_train = np.array(train.iloc[:,:-1])\n",
    "y_train = np.array(train['y'])\n",
    "\n",
    "X_test = np.array(test.iloc[:,:-1])\n",
    "y_test = np.array(test['y'])"
   ]
  },
  {
   "cell_type": "code",
   "execution_count": 55,
   "metadata": {
    "scrolled": true
   },
   "outputs": [
    {
     "data": {
      "text/plain": [
       "array([ 1, -1,  1,  1,  1,  1,  1,  1,  1,  1,  1,  1,  1,  1,  1,  1,  1,\n",
       "        1,  0,  1,  0,  1,  1,  1,  1,  1,  1,  1,  0,  1, -1, -1, -1,  1,\n",
       "       -1, -1, -1, -1, -1, -1, -1,  1, -1, -1, -1, -1, -1, -1, -1, -1, -1,\n",
       "        1,  0,  1,  1,  0,  1,  0,  1,  0,  0,  1,  1,  0,  1, -1, -1,  1])"
      ]
     },
     "execution_count": 55,
     "metadata": {},
     "output_type": "execute_result"
    }
   ],
   "source": [
    "GBC = GradientBoostingClassifier()\n",
    "GBC.fit(X_train, y_train)\n",
    "sum(GBC.predict(X_test) == y_test) / len(y_test)\n",
    "GBC.predict(X_test)"
   ]
  },
  {
   "cell_type": "code",
   "execution_count": 56,
   "metadata": {},
   "outputs": [],
   "source": [
    "sift = cv2.SIFT_create()\n",
    "CADR_PER_SEC = 24\n",
    "# width and height of basic video\n",
    "width = 1080 // 2\n",
    "height = 1920 // 2\n",
    "fourcc = cv2.VideoWriter_fourcc(*'mp4v')\n",
    "out = cv2.VideoWriter('cup_sift.mp4', fourcc, CADR_PER_SEC,  (width, height))\n",
    "\n",
    "cap = cv2.VideoCapture('cup.mp4')\n",
    "\n",
    "while cap.isOpened():\n",
    "    ret, frame = cap.read()\n",
    "    if ret == True:\n",
    "        frame = cv2.resize(frame,(0,0), fx = 0.5, fy=.5)\n",
    "        frame = cv2.cvtColor(frame, cv2.COLOR_BGR2GRAY)\n",
    "        kp, des = sift.detectAndCompute(frame,None)\n",
    "        histogram = np.zeros(len(centers))\n",
    "        res = 2\n",
    "        if des is not None:\n",
    "            for each_feature in des:\n",
    "                     ind = find_index(each_feature, centers)\n",
    "                     histogram[ind] += 1\n",
    "            res = GBC.predict(histogram.reshape(1, -1))[0]\n",
    "        frame = cv2.cvtColor(frame, cv2.COLOR_GRAY2BGR)\n",
    "        #cv2.imshow('gray_video', frame)\n",
    "        #if our class \n",
    "        label = \"Found\" if res == -1 else \"Not found\"\n",
    "        cv2.putText(frame, label,(100, 100), cv2.FONT_HERSHEY_PLAIN, 1.0, (255,0,0), 2)\n",
    "        out.write(frame)\n",
    "        #cv2.imshow('gray_video', frame)\n",
    "        if cv2.waitKey(1000//CADR_PER_SEC) & 0xFF == ord('q'):\n",
    "            break\n",
    "    else:\n",
    "        break\n",
    "\n",
    "cap.release()\n",
    "out.release()\n",
    "cv2.waitKey(0)\n",
    "cv2.destroyAllWindows()"
   ]
  },
  {
   "cell_type": "code",
   "execution_count": 46,
   "metadata": {},
   "outputs": [],
   "source": [
    "def brisk_features(images):\n",
    "    sift_vectors = {}\n",
    "    descriptor_list = []\n",
    "    sift = cv2.BRISK_create()\n",
    "    for key,value in images.items():\n",
    "        features = []\n",
    "        for img in value:\n",
    "            kp, des = sift.detectAndCompute(img,None)\n",
    "           \n",
    "            \n",
    "            descriptor_list.extend(des)\n",
    "            features.append(des)\n",
    "        sift_vectors[key] = features\n",
    "    return [descriptor_list, sift_vectors]\n",
    "centers = np.load('centers_brisk.npy')"
   ]
  },
  {
   "cell_type": "code",
   "execution_count": 47,
   "metadata": {},
   "outputs": [],
   "source": [
    "train = pd.read_csv('train_brisk.csv')\n",
    "test = pd.read_csv('test_brisk.csv')\n",
    "\n",
    "train.drop(columns='Unnamed: 0',inplace = True)\n",
    "test.drop(columns='Unnamed: 0',inplace = True)\n",
    "\n",
    "X_train = np.array(train.iloc[:,:-1])\n",
    "y_train = np.array(train['y'])\n",
    "\n",
    "X_test = np.array(test.iloc[:,:-1])\n",
    "y_test = np.array(test['y'])"
   ]
  },
  {
   "cell_type": "code",
   "execution_count": 48,
   "metadata": {},
   "outputs": [
    {
     "name": "stderr",
     "output_type": "stream",
     "text": [
      "/Library/Frameworks/Python.framework/Versions/3.7/lib/python3.7/site-packages/sklearn/linear_model/_logistic.py:940: ConvergenceWarning: lbfgs failed to converge (status=1):\n",
      "STOP: TOTAL NO. of ITERATIONS REACHED LIMIT.\n",
      "\n",
      "Increase the number of iterations (max_iter) or scale the data as shown in:\n",
      "    https://scikit-learn.org/stable/modules/preprocessing.html\n",
      "Please also refer to the documentation for alternative solver options:\n",
      "    https://scikit-learn.org/stable/modules/linear_model.html#logistic-regression\n",
      "  extra_warning_msg=_LOGISTIC_SOLVER_CONVERGENCE_MSG)\n"
     ]
    },
    {
     "data": {
      "text/plain": [
       "LogisticRegression(C=1.0, class_weight=None, dual=False, fit_intercept=True,\n",
       "                   intercept_scaling=1, l1_ratio=None, max_iter=100,\n",
       "                   multi_class='auto', n_jobs=None, penalty='l2',\n",
       "                   random_state=None, solver='lbfgs', tol=0.0001, verbose=0,\n",
       "                   warm_start=False)"
      ]
     },
     "execution_count": 48,
     "metadata": {},
     "output_type": "execute_result"
    }
   ],
   "source": [
    "LR = LogisticRegression()\n",
    "LR.fit(X_train, y_train)"
   ]
  },
  {
   "cell_type": "code",
   "execution_count": 51,
   "metadata": {},
   "outputs": [],
   "source": [
    "brisk = cv2.BRISK_create()\n",
    "CADR_PER_SEC = 24\n",
    "width = 1080 // 2\n",
    "height = 1920 // 2\n",
    "fourcc = cv2.VideoWriter_fourcc(*'mp4v')\n",
    "out = cv2.VideoWriter('cup_brisk.mp4', fourcc, CADR_PER_SEC,  (width, height))\n",
    "\n",
    "cap = cv2.VideoCapture('cup.mp4')\n",
    "\n",
    "while cap.isOpened():\n",
    "    ret, frame = cap.read()\n",
    "    if ret == True:\n",
    "        frame = cv2.resize(frame,(0,0), fx = 0.5, fy=.5)\n",
    "        frame = cv2.cvtColor(frame, cv2.COLOR_BGR2GRAY)\n",
    "        kp, des = brisk.detectAndCompute(frame,None)\n",
    "        histogram = np.zeros(len(centers))\n",
    "        res = 2\n",
    "        if des is not None:\n",
    "            for each_feature in des:\n",
    "                     ind = find_index(each_feature, centers)\n",
    "                     histogram[ind] += 1\n",
    "            res = GBC.predict(histogram.reshape(1, -1))[0]\n",
    "        frame = cv2.cvtColor(frame, cv2.COLOR_GRAY2BGR)\n",
    "        #cv2.imshow('gray_video', frame)\n",
    "        label = \"Found\" if res == -1 else \"Not found\"\n",
    "        cv2.putText(frame, label,(100, 100), cv2.FONT_HERSHEY_PLAIN, 1.0, (255,0,0), 2)\n",
    "        out.write(frame)\n",
    "        #cv2.imshow('gray_video', frame)\n",
    "        if cv2.waitKey(1000//CADR_PER_SEC) & 0xFF == ord('q'):\n",
    "            break\n",
    "    else:\n",
    "        break\n",
    "\n",
    "cap.release()\n",
    "out.release()\n",
    "cv2.waitKey(0)\n",
    "cv2.destroyAllWindows()"
   ]
  },
  {
   "cell_type": "code",
   "execution_count": null,
   "metadata": {},
   "outputs": [],
   "source": []
  }
 ],
 "metadata": {
  "kernelspec": {
   "display_name": "Python 3",
   "language": "python",
   "name": "python3"
  },
  "language_info": {
   "codemirror_mode": {
    "name": "ipython",
    "version": 3
   },
   "file_extension": ".py",
   "mimetype": "text/x-python",
   "name": "python",
   "nbconvert_exporter": "python",
   "pygments_lexer": "ipython3",
   "version": "3.7.7"
  }
 },
 "nbformat": 4,
 "nbformat_minor": 4
}
