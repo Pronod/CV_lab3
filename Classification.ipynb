{
 "cells": [
  {
   "cell_type": "code",
   "execution_count": 1,
   "metadata": {},
   "outputs": [],
   "source": [
    "import pandas as pd \n",
    "import numpy as np\n",
    "import cv2\n",
    "import time\n",
    "\n",
    "from sklearn.metrics import confusion_matrix\n",
    "\n",
    "from sklearn.neighbors import KNeighborsClassifier\n",
    "from sklearn.svm import SVC\n",
    "from sklearn.tree import DecisionTreeClassifier\n",
    "from sklearn.ensemble import RandomForestClassifier, AdaBoostClassifier, GradientBoostingClassifier\n",
    "from sklearn.naive_bayes import GaussianNB\n",
    "from sklearn.discriminant_analysis import LinearDiscriminantAnalysis, QuadraticDiscriminantAnalysis\n",
    "from sklearn.linear_model import LogisticRegression\n",
    "from sklearn.dummy import DummyClassifier"
   ]
  },
  {
   "cell_type": "code",
   "execution_count": 2,
   "metadata": {},
   "outputs": [],
   "source": [
    "train = pd.read_csv('train_sift.csv')\n",
    "test = pd.read_csv('test_sift.csv')\n",
    "\n",
    "train.drop(columns='Unnamed: 0',inplace = True)\n",
    "test.drop(columns='Unnamed: 0',inplace = True)"
   ]
  },
  {
   "cell_type": "code",
   "execution_count": 3,
   "metadata": {},
   "outputs": [],
   "source": [
    "X_train = np.array(train.iloc[:,:-1])\n",
    "y_train = np.array(train['y'])\n",
    "\n",
    "X_test = np.array(test.iloc[:,:-1])\n",
    "y_test = np.array(test['y'])"
   ]
  },
  {
   "cell_type": "code",
   "execution_count": 4,
   "metadata": {},
   "outputs": [
    {
     "data": {
      "text/plain": [
       "((198, 150), (198,), (68, 150), (68,))"
      ]
     },
     "execution_count": 4,
     "metadata": {},
     "output_type": "execute_result"
    }
   ],
   "source": [
    "X_train.shape, y_train.shape, X_test.shape, y_test.shape"
   ]
  },
  {
   "cell_type": "code",
   "execution_count": 5,
   "metadata": {},
   "outputs": [],
   "source": [
    "def study(model):\n",
    "    start = time.time()\n",
    "    \n",
    "    model.fit(X_train, y_train)\n",
    "    pred = model.predict(X_test)\n",
    "    matrix = confusion_matrix(y_test,pred)\n",
    "    \n",
    "    # 0 - cup, 1 - nothing, 2 - anticeptik  \n",
    "    print(matrix)\n",
    "    print(\"Type 1 error (cup):\" ,(sum(matrix[0]) - matrix[0][0]) / sum(matrix[0]))\n",
    "    print(\"Type 1 error (anticeptik):\" ,(sum(matrix[2]) - matrix[2][2]) / sum(matrix[2]))\n",
    "    print(\"Type 2 error:\" ,(sum(matrix[1]) - matrix[1][1]) / sum(matrix[1]))\n",
    "    print(\"Accuracy:\", (matrix[0][0] + matrix[1][1] + matrix[2][2]) / len(y_test))\n",
    "    print(str(round(time.time() - start, 5)) + ' sec\\n\\n')"
   ]
  },
  {
   "cell_type": "code",
   "execution_count": 6,
   "metadata": {},
   "outputs": [
    {
     "name": "stdout",
     "output_type": "stream",
     "text": [
      "DummyClassifier\n",
      "[[12  5  7]\n",
      " [ 9  1  7]\n",
      " [12  3 12]]\n",
      "Type 1 error (cup): 0.5\n",
      "Type 1 error (anticeptik): 0.5555555555555556\n",
      "Type 2 error: 0.9411764705882353\n",
      "Accuracy: 0.36764705882352944\n",
      "0.00569 sec\n",
      "\n",
      "\n",
      "SVC\n",
      "[[17  0  7]\n",
      " [ 3  0 14]\n",
      " [ 2  0 25]]\n",
      "Type 1 error (cup): 0.2916666666666667\n",
      "Type 1 error (anticeptik): 0.07407407407407407\n",
      "Type 2 error: 1.0\n",
      "Accuracy: 0.6176470588235294\n",
      "0.01413 sec\n",
      "\n",
      "\n",
      "KNeighborsClassifier\n",
      "[[17  0  7]\n",
      " [ 6  3  8]\n",
      " [ 3  0 24]]\n",
      "Type 1 error (cup): 0.2916666666666667\n",
      "Type 1 error (anticeptik): 0.1111111111111111\n",
      "Type 2 error: 0.8235294117647058\n",
      "Accuracy: 0.6470588235294118\n",
      "0.00842 sec\n",
      "\n",
      "\n",
      "LogisticRegression\n",
      "[[17  1  6]\n",
      " [ 1  6 10]\n",
      " [ 2  3 22]]\n",
      "Type 1 error (cup): 0.2916666666666667\n",
      "Type 1 error (anticeptik): 0.18518518518518517\n",
      "Type 2 error: 0.6470588235294118\n",
      "Accuracy: 0.6617647058823529\n",
      "0.06153 sec\n",
      "\n",
      "\n",
      "DecisionTreeClassifier\n",
      "[[19  2  3]\n",
      " [ 1 10  6]\n",
      " [ 1  7 19]]\n",
      "Type 1 error (cup): 0.20833333333333334\n",
      "Type 1 error (anticeptik): 0.2962962962962963\n",
      "Type 2 error: 0.4117647058823529\n",
      "Accuracy: 0.7058823529411765\n",
      "0.0064 sec\n",
      "\n",
      "\n",
      "RandomForestClassifier\n"
     ]
    },
    {
     "name": "stderr",
     "output_type": "stream",
     "text": [
      "/Library/Frameworks/Python.framework/Versions/3.7/lib/python3.7/site-packages/sklearn/dummy.py:132: FutureWarning: The default value of strategy will change from stratified to prior in 0.24.\n",
      "  \"stratified to prior in 0.24.\", FutureWarning)\n",
      "/Library/Frameworks/Python.framework/Versions/3.7/lib/python3.7/site-packages/sklearn/linear_model/_logistic.py:940: ConvergenceWarning: lbfgs failed to converge (status=1):\n",
      "STOP: TOTAL NO. of ITERATIONS REACHED LIMIT.\n",
      "\n",
      "Increase the number of iterations (max_iter) or scale the data as shown in:\n",
      "    https://scikit-learn.org/stable/modules/preprocessing.html\n",
      "Please also refer to the documentation for alternative solver options:\n",
      "    https://scikit-learn.org/stable/modules/linear_model.html#logistic-regression\n",
      "  extra_warning_msg=_LOGISTIC_SOLVER_CONVERGENCE_MSG)\n"
     ]
    },
    {
     "name": "stdout",
     "output_type": "stream",
     "text": [
      "[[19  1  4]\n",
      " [ 3  2 12]\n",
      " [ 3  0 24]]\n",
      "Type 1 error (cup): 0.20833333333333334\n",
      "Type 1 error (anticeptik): 0.1111111111111111\n",
      "Type 2 error: 0.8823529411764706\n",
      "Accuracy: 0.6617647058823529\n",
      "0.17407 sec\n",
      "\n",
      "\n",
      "AdaBoostClassifier\n",
      "[[17  2  5]\n",
      " [ 0  4 13]\n",
      " [ 1  6 20]]\n",
      "Type 1 error (cup): 0.2916666666666667\n",
      "Type 1 error (anticeptik): 0.25925925925925924\n",
      "Type 2 error: 0.7647058823529411\n",
      "Accuracy: 0.6029411764705882\n",
      "0.10207 sec\n",
      "\n",
      "\n",
      "GradientBoostingClassifier\n",
      "[[19  1  4]\n",
      " [ 2  7  8]\n",
      " [ 1  2 24]]\n",
      "Type 1 error (cup): 0.20833333333333334\n",
      "Type 1 error (anticeptik): 0.1111111111111111\n",
      "Type 2 error: 0.5882352941176471\n",
      "Accuracy: 0.7352941176470589\n",
      "0.84625 sec\n",
      "\n",
      "\n"
     ]
    }
   ],
   "source": [
    "classifiers = [\n",
    "    DummyClassifier(),\n",
    "    SVC(gamma='scale'),\n",
    "    KNeighborsClassifier(3),\n",
    "    LogisticRegression(),\n",
    "    DecisionTreeClassifier(),\n",
    "    RandomForestClassifier(),\n",
    "    AdaBoostClassifier(),\n",
    "    GradientBoostingClassifier(),\n",
    "    #GaussianNB(),\n",
    "    #LinearDiscriminantAnalysis(),\n",
    "    #QuadraticDiscriminantAnalysis(),\n",
    "]\n",
    "\n",
    "for clf in classifiers:\n",
    "    print(clf.__class__.__name__)\n",
    "    study(clf)"
   ]
  },
  {
   "cell_type": "code",
   "execution_count": 7,
   "metadata": {},
   "outputs": [],
   "source": [
    "train = pd.read_csv('train_brisk.csv')\n",
    "test = pd.read_csv('test_brisk.csv')\n",
    "\n",
    "train.drop(columns='Unnamed: 0',inplace = True)\n",
    "test.drop(columns='Unnamed: 0',inplace = True)\n",
    "\n",
    "X_train = np.array(train.iloc[:,:-1])\n",
    "y_train = np.array(train['y'])\n",
    "\n",
    "X_test = np.array(test.iloc[:,:-1])\n",
    "y_test = np.array(test['y'])"
   ]
  },
  {
   "cell_type": "code",
   "execution_count": 8,
   "metadata": {},
   "outputs": [
    {
     "name": "stdout",
     "output_type": "stream",
     "text": [
      "DummyClassifier\n",
      "[[ 9  2 13]\n",
      " [ 7  3  7]\n",
      " [12  2 13]]\n",
      "Type 1 error (cup): 0.625\n",
      "Type 1 error (anticeptik): 0.5185185185185185\n",
      "Type 2 error: 0.8235294117647058\n",
      "Accuracy: 0.36764705882352944\n",
      "0.0029 sec\n",
      "\n",
      "\n",
      "SVC\n",
      "[[19  0  5]\n",
      " [ 2  0 15]\n",
      " [ 7  0 20]]\n",
      "Type 1 error (cup): 0.20833333333333334\n",
      "Type 1 error (anticeptik): 0.25925925925925924\n",
      "Type 2 error: 1.0\n",
      "Accuracy: 0.5735294117647058\n",
      "0.01669 sec\n",
      "\n",
      "\n",
      "KNeighborsClassifier\n",
      "[[19  0  5]\n",
      " [ 2  1 14]\n",
      " [ 5  1 21]]\n",
      "Type 1 error (cup): 0.20833333333333334\n",
      "Type 1 error (anticeptik): 0.2222222222222222\n",
      "Type 2 error: 0.9411764705882353\n",
      "Accuracy: 0.6029411764705882\n",
      "0.00898 sec\n",
      "\n",
      "\n",
      "LogisticRegression\n",
      "[[17  1  6]\n",
      " [ 1  6 10]\n",
      " [ 1  2 24]]\n",
      "Type 1 error (cup): 0.2916666666666667\n",
      "Type 1 error (anticeptik): 0.1111111111111111\n",
      "Type 2 error: 0.6470588235294118\n",
      "Accuracy: 0.6911764705882353\n",
      "0.04086 sec\n",
      "\n",
      "\n",
      "DecisionTreeClassifier\n",
      "[[13  2  9]\n",
      " [ 1  4 12]\n",
      " [ 5  3 19]]\n",
      "Type 1 error (cup): 0.4583333333333333\n",
      "Type 1 error (anticeptik): 0.2962962962962963\n",
      "Type 2 error: 0.7647058823529411\n",
      "Accuracy: 0.5294117647058824\n",
      "0.00739 sec\n",
      "\n",
      "\n",
      "RandomForestClassifier\n"
     ]
    },
    {
     "name": "stderr",
     "output_type": "stream",
     "text": [
      "/Library/Frameworks/Python.framework/Versions/3.7/lib/python3.7/site-packages/sklearn/dummy.py:132: FutureWarning: The default value of strategy will change from stratified to prior in 0.24.\n",
      "  \"stratified to prior in 0.24.\", FutureWarning)\n",
      "/Library/Frameworks/Python.framework/Versions/3.7/lib/python3.7/site-packages/sklearn/linear_model/_logistic.py:940: ConvergenceWarning: lbfgs failed to converge (status=1):\n",
      "STOP: TOTAL NO. of ITERATIONS REACHED LIMIT.\n",
      "\n",
      "Increase the number of iterations (max_iter) or scale the data as shown in:\n",
      "    https://scikit-learn.org/stable/modules/preprocessing.html\n",
      "Please also refer to the documentation for alternative solver options:\n",
      "    https://scikit-learn.org/stable/modules/linear_model.html#logistic-regression\n",
      "  extra_warning_msg=_LOGISTIC_SOLVER_CONVERGENCE_MSG)\n"
     ]
    },
    {
     "name": "stdout",
     "output_type": "stream",
     "text": [
      "[[19  0  5]\n",
      " [ 1  1 15]\n",
      " [ 7  0 20]]\n",
      "Type 1 error (cup): 0.20833333333333334\n",
      "Type 1 error (anticeptik): 0.25925925925925924\n",
      "Type 2 error: 0.9411764705882353\n",
      "Accuracy: 0.5882352941176471\n",
      "0.15924 sec\n",
      "\n",
      "\n",
      "AdaBoostClassifier\n",
      "[[17  0  7]\n",
      " [ 1  5 11]\n",
      " [ 1  1 25]]\n",
      "Type 1 error (cup): 0.2916666666666667\n",
      "Type 1 error (anticeptik): 0.07407407407407407\n",
      "Type 2 error: 0.7058823529411765\n",
      "Accuracy: 0.6911764705882353\n",
      "0.11187 sec\n",
      "\n",
      "\n",
      "GradientBoostingClassifier\n",
      "[[18  0  6]\n",
      " [ 1  2 14]\n",
      " [ 4  1 22]]\n",
      "Type 1 error (cup): 0.25\n",
      "Type 1 error (anticeptik): 0.18518518518518517\n",
      "Type 2 error: 0.8823529411764706\n",
      "Accuracy: 0.6176470588235294\n",
      "0.93334 sec\n",
      "\n",
      "\n"
     ]
    }
   ],
   "source": [
    "for clf in classifiers:\n",
    "    print(clf.__class__.__name__)\n",
    "    study(clf)"
   ]
  },
  {
   "cell_type": "code",
   "execution_count": null,
   "metadata": {},
   "outputs": [],
   "source": []
  },
  {
   "cell_type": "code",
   "execution_count": null,
   "metadata": {},
   "outputs": [],
   "source": []
  }
 ],
 "metadata": {
  "kernelspec": {
   "display_name": "Python 3",
   "language": "python",
   "name": "python3"
  },
  "language_info": {
   "codemirror_mode": {
    "name": "ipython",
    "version": 3
   },
   "file_extension": ".py",
   "mimetype": "text/x-python",
   "name": "python",
   "nbconvert_exporter": "python",
   "pygments_lexer": "ipython3",
   "version": "3.7.7"
  }
 },
 "nbformat": 4,
 "nbformat_minor": 4
}
