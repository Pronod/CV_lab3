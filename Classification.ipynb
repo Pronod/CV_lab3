{
 "cells": [
  {
   "cell_type": "code",
   "execution_count": 6,
   "metadata": {},
   "outputs": [],
   "source": [
    "import pandas as pd \n",
    "import numpy as np\n",
    "import cv2\n",
    "import time\n",
    "\n",
    "from sklearn.metrics import confusion_matrix\n",
    "\n",
    "from sklearn.neighbors import KNeighborsClassifier\n",
    "from sklearn.svm import SVC\n",
    "from sklearn.tree import DecisionTreeClassifier\n",
    "from sklearn.ensemble import RandomForestClassifier, AdaBoostClassifier, GradientBoostingClassifier\n",
    "from sklearn.naive_bayes import GaussianNB\n",
    "from sklearn.discriminant_analysis import LinearDiscriminantAnalysis, QuadraticDiscriminantAnalysis\n",
    "from sklearn.linear_model import LogisticRegression\n",
    "from sklearn.dummy import DummyClassifier"
   ]
  },
  {
   "cell_type": "code",
   "execution_count": 7,
   "metadata": {},
   "outputs": [],
   "source": [
    "train = pd.read_csv('train_sift.csv')\n",
    "test = pd.read_csv('test_sift.csv')\n",
    "\n",
    "train.drop(columns='Unnamed: 0',inplace = True)\n",
    "test.drop(columns='Unnamed: 0',inplace = True)"
   ]
  },
  {
   "cell_type": "code",
   "execution_count": 8,
   "metadata": {},
   "outputs": [],
   "source": [
    "X_train = np.array(train.iloc[:,:-1])\n",
    "y_train = np.array(train['y'])\n",
    "\n",
    "X_test = np.array(test.iloc[:,:-1])\n",
    "y_test = np.array(test['y'])"
   ]
  },
  {
   "cell_type": "code",
   "execution_count": 9,
   "metadata": {},
   "outputs": [
    {
     "data": {
      "text/plain": [
       "((198, 150), (198,), (150, 150), (150,))"
      ]
     },
     "execution_count": 9,
     "metadata": {},
     "output_type": "execute_result"
    }
   ],
   "source": [
    "X_train.shape, y_train.shape, X_test.shape, y_test.shape"
   ]
  },
  {
   "cell_type": "code",
   "execution_count": 10,
   "metadata": {},
   "outputs": [],
   "source": [
    "def study(model):\n",
    "    start = time.time()\n",
    "    \n",
    "    model.fit(X_train, y_train)\n",
    "    pred = model.predict(X_test)\n",
    "    matrix = confusion_matrix(y_test,pred)\n",
    "    \n",
    "    # 0 - cup, 1 - nothing, 2 - anticeptik  \n",
    "    print(matrix)\n",
    "    print(\"Type 1 error (cup):\" ,(sum(matrix[0]) - matrix[0][0]) / sum(matrix[0]))\n",
    "    print(\"Type 1 error (anticeptik):\" ,(sum(matrix[2]) - matrix[2][2]) / sum(matrix[2]))\n",
    "    print(\"Type 2 error:\" ,(sum(matrix[1]) - matrix[1][1]) / sum(matrix[1]))\n",
    "    print(\"Accuracy:\", (matrix[0][0] + matrix[1][1] + matrix[2][2]) / len(y_test))\n",
    "    print(str(round(time.time() - start, 5)) + ' sec\\n\\n')"
   ]
  },
  {
   "cell_type": "code",
   "execution_count": 20,
   "metadata": {},
   "outputs": [
    {
     "name": "stdout",
     "output_type": "stream",
     "text": [
      "DummyClassifier\n",
      "[[22  9 19]\n",
      " [20  7 23]\n",
      " [23  4 23]]\n",
      "Type 1 error (cup): 0.56\n",
      "Type 1 error (anticeptik): 0.54\n",
      "Type 2 error: 0.86\n",
      "Accuracy: 0.3466666666666667\n",
      "0.00416 sec\n",
      "\n",
      "\n",
      "SVC\n",
      "[[42  0  8]\n",
      " [ 8  0 42]\n",
      " [ 3  0 47]]\n",
      "Type 1 error (cup): 0.16\n",
      "Type 1 error (anticeptik): 0.06\n",
      "Type 2 error: 1.0\n",
      "Accuracy: 0.5933333333333334\n",
      "0.01876 sec\n",
      "\n",
      "\n",
      "KNeighborsClassifier\n",
      "[[41  1  8]\n",
      " [12  3 35]\n",
      " [ 5  0 45]]\n",
      "Type 1 error (cup): 0.18\n",
      "Type 1 error (anticeptik): 0.1\n",
      "Type 2 error: 0.94\n",
      "Accuracy: 0.5933333333333334\n",
      "0.01871 sec\n",
      "\n",
      "\n",
      "LogisticRegression\n",
      "[[39  5  6]\n",
      " [ 4 13 33]\n",
      " [ 3  5 42]]\n",
      "Type 1 error (cup): 0.22\n",
      "Type 1 error (anticeptik): 0.16\n",
      "Type 2 error: 0.74\n",
      "Accuracy: 0.6266666666666667\n",
      "0.05324 sec\n",
      "\n",
      "\n",
      "DecisionTreeClassifier\n",
      "[[42  1  7]\n",
      " [ 5 25 20]\n",
      " [ 2 10 38]]\n",
      "Type 1 error (cup): 0.16\n",
      "Type 1 error (anticeptik): 0.24\n",
      "Type 2 error: 0.5\n",
      "Accuracy: 0.7\n",
      "0.00651 sec\n",
      "\n",
      "\n",
      "RandomForestClassifier\n"
     ]
    },
    {
     "name": "stderr",
     "output_type": "stream",
     "text": [
      "/Library/Frameworks/Python.framework/Versions/3.7/lib/python3.7/site-packages/sklearn/dummy.py:132: FutureWarning: The default value of strategy will change from stratified to prior in 0.24.\n",
      "  \"stratified to prior in 0.24.\", FutureWarning)\n",
      "/Library/Frameworks/Python.framework/Versions/3.7/lib/python3.7/site-packages/sklearn/linear_model/_logistic.py:940: ConvergenceWarning: lbfgs failed to converge (status=1):\n",
      "STOP: TOTAL NO. of ITERATIONS REACHED LIMIT.\n",
      "\n",
      "Increase the number of iterations (max_iter) or scale the data as shown in:\n",
      "    https://scikit-learn.org/stable/modules/preprocessing.html\n",
      "Please also refer to the documentation for alternative solver options:\n",
      "    https://scikit-learn.org/stable/modules/linear_model.html#logistic-regression\n",
      "  extra_warning_msg=_LOGISTIC_SOLVER_CONVERGENCE_MSG)\n"
     ]
    },
    {
     "name": "stdout",
     "output_type": "stream",
     "text": [
      "[[45  0  5]\n",
      " [ 4  5 41]\n",
      " [ 3  0 47]]\n",
      "Type 1 error (cup): 0.1\n",
      "Type 1 error (anticeptik): 0.06\n",
      "Type 2 error: 0.9\n",
      "Accuracy: 0.6466666666666666\n",
      "0.16495 sec\n",
      "\n",
      "\n",
      "AdaBoostClassifier\n",
      "[[42  2  6]\n",
      " [ 1 12 37]\n",
      " [ 2  9 39]]\n",
      "Type 1 error (cup): 0.16\n",
      "Type 1 error (anticeptik): 0.22\n",
      "Type 2 error: 0.76\n",
      "Accuracy: 0.62\n",
      "0.10571 sec\n",
      "\n",
      "\n",
      "GradientBoostingClassifier\n",
      "[[45  1  4]\n",
      " [ 5 16 29]\n",
      " [ 1  2 47]]\n",
      "Type 1 error (cup): 0.1\n",
      "Type 1 error (anticeptik): 0.06\n",
      "Type 2 error: 0.68\n",
      "Accuracy: 0.72\n",
      "0.86954 sec\n",
      "\n",
      "\n"
     ]
    }
   ],
   "source": [
    "classifiers = [\n",
    "    DummyClassifier(),\n",
    "    SVC(gamma='scale'),\n",
    "    KNeighborsClassifier(3),\n",
    "    LogisticRegression(),\n",
    "    DecisionTreeClassifier(),\n",
    "    RandomForestClassifier(),\n",
    "    AdaBoostClassifier(),\n",
    "    GradientBoostingClassifier(),\n",
    "    #GaussianNB(),\n",
    "    #LinearDiscriminantAnalysis(),\n",
    "    #QuadraticDiscriminantAnalysis(),\n",
    "]\n",
    "\n",
    "for clf in classifiers:\n",
    "    print(clf.__class__.__name__)\n",
    "    study(clf)"
   ]
  },
  {
   "cell_type": "code",
   "execution_count": 21,
   "metadata": {},
   "outputs": [],
   "source": [
    "train = pd.read_csv('train_brisk.csv')\n",
    "test = pd.read_csv('test_brisk.csv')\n",
    "\n",
    "train.drop(columns='Unnamed: 0',inplace = True)\n",
    "test.drop(columns='Unnamed: 0',inplace = True)\n",
    "\n",
    "X_train = np.array(train.iloc[:,:-1])\n",
    "y_train = np.array(train['y'])\n",
    "\n",
    "X_test = np.array(test.iloc[:,:-1])\n",
    "y_test = np.array(test['y'])"
   ]
  },
  {
   "cell_type": "code",
   "execution_count": 24,
   "metadata": {},
   "outputs": [
    {
     "name": "stdout",
     "output_type": "stream",
     "text": [
      "DummyClassifier\n",
      "[[19  7 24]\n",
      " [18  4 28]\n",
      " [24 12 14]]\n",
      "Type 1 error (cup): 0.62\n",
      "Type 1 error (anticeptik): 0.72\n",
      "Type 2 error: 0.92\n",
      "Accuracy: 0.24666666666666667\n",
      "0.00313 sec\n",
      "\n",
      "\n",
      "SVC\n",
      "[[45  0  5]\n",
      " [ 8  0 42]\n",
      " [10  0 40]]\n",
      "Type 1 error (cup): 0.1\n",
      "Type 1 error (anticeptik): 0.2\n",
      "Type 2 error: 1.0\n",
      "Accuracy: 0.5666666666666667\n",
      "0.02145 sec\n",
      "\n",
      "\n",
      "KNeighborsClassifier\n",
      "[[45  0  5]\n",
      " [ 4  8 38]\n",
      " [ 5  1 44]]\n",
      "Type 1 error (cup): 0.1\n",
      "Type 1 error (anticeptik): 0.12\n",
      "Type 2 error: 0.84\n",
      "Accuracy: 0.6466666666666666\n",
      "0.01411 sec\n",
      "\n",
      "\n",
      "LogisticRegression\n",
      "[[42  1  7]\n",
      " [ 5 14 31]\n",
      " [ 4  3 43]]\n",
      "Type 1 error (cup): 0.16\n",
      "Type 1 error (anticeptik): 0.14\n",
      "Type 2 error: 0.72\n",
      "Accuracy: 0.66\n",
      "0.04109 sec\n",
      "\n",
      "\n",
      "DecisionTreeClassifier\n",
      "[[39  1 10]\n",
      " [ 4  8 38]\n",
      " [ 6  6 38]]\n",
      "Type 1 error (cup): 0.22\n",
      "Type 1 error (anticeptik): 0.24\n",
      "Type 2 error: 0.84\n",
      "Accuracy: 0.5666666666666667\n",
      "0.00713 sec\n",
      "\n",
      "\n",
      "RandomForestClassifier\n"
     ]
    },
    {
     "name": "stderr",
     "output_type": "stream",
     "text": [
      "/Library/Frameworks/Python.framework/Versions/3.7/lib/python3.7/site-packages/sklearn/dummy.py:132: FutureWarning: The default value of strategy will change from stratified to prior in 0.24.\n",
      "  \"stratified to prior in 0.24.\", FutureWarning)\n",
      "/Library/Frameworks/Python.framework/Versions/3.7/lib/python3.7/site-packages/sklearn/linear_model/_logistic.py:940: ConvergenceWarning: lbfgs failed to converge (status=1):\n",
      "STOP: TOTAL NO. of ITERATIONS REACHED LIMIT.\n",
      "\n",
      "Increase the number of iterations (max_iter) or scale the data as shown in:\n",
      "    https://scikit-learn.org/stable/modules/preprocessing.html\n",
      "Please also refer to the documentation for alternative solver options:\n",
      "    https://scikit-learn.org/stable/modules/linear_model.html#logistic-regression\n",
      "  extra_warning_msg=_LOGISTIC_SOLVER_CONVERGENCE_MSG)\n"
     ]
    },
    {
     "name": "stdout",
     "output_type": "stream",
     "text": [
      "[[44  0  6]\n",
      " [ 1  1 48]\n",
      " [ 8  0 42]]\n",
      "Type 1 error (cup): 0.12\n",
      "Type 1 error (anticeptik): 0.16\n",
      "Type 2 error: 0.98\n",
      "Accuracy: 0.58\n",
      "0.16306 sec\n",
      "\n",
      "\n",
      "AdaBoostClassifier\n",
      "[[40  0 10]\n",
      " [ 1 11 38]\n",
      " [ 2  2 46]]\n",
      "Type 1 error (cup): 0.2\n",
      "Type 1 error (anticeptik): 0.08\n",
      "Type 2 error: 0.78\n",
      "Accuracy: 0.6466666666666666\n",
      "0.10766 sec\n",
      "\n",
      "\n",
      "GradientBoostingClassifier\n",
      "[[44  1  5]\n",
      " [ 3  6 41]\n",
      " [ 5  2 43]]\n",
      "Type 1 error (cup): 0.12\n",
      "Type 1 error (anticeptik): 0.14\n",
      "Type 2 error: 0.88\n",
      "Accuracy: 0.62\n",
      "0.90281 sec\n",
      "\n",
      "\n"
     ]
    }
   ],
   "source": [
    "for clf in classifiers:\n",
    "    print(clf.__class__.__name__)\n",
    "    study(clf)"
   ]
  },
  {
   "cell_type": "code",
   "execution_count": null,
   "metadata": {},
   "outputs": [],
   "source": []
  },
  {
   "cell_type": "code",
   "execution_count": null,
   "metadata": {},
   "outputs": [],
   "source": []
  }
 ],
 "metadata": {
  "kernelspec": {
   "display_name": "Python 3",
   "language": "python",
   "name": "python3"
  },
  "language_info": {
   "codemirror_mode": {
    "name": "ipython",
    "version": 3
   },
   "file_extension": ".py",
   "mimetype": "text/x-python",
   "name": "python",
   "nbconvert_exporter": "python",
   "pygments_lexer": "ipython3",
   "version": "3.7.7"
  }
 },
 "nbformat": 4,
 "nbformat_minor": 4
}
